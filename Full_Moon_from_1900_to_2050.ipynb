{
  "nbformat": 4,
  "nbformat_minor": 0,
  "metadata": {
    "kernelspec": {
      "display_name": "Python 3",
      "language": "python",
      "name": "python3"
    },
    "language_info": {
      "codemirror_mode": {
        "name": "ipython",
        "version": 3
      },
      "file_extension": ".py",
      "mimetype": "text/x-python",
      "name": "python",
      "nbconvert_exporter": "python",
      "pygments_lexer": "ipython3",
      "version": "3.8.5"
    },
    "colab": {
      "name": "Full_Moon_from_1900_to_2050.ipynb",
      "provenance": [],
      "include_colab_link": true
    }
  },
  "cells": [
    {
      "cell_type": "markdown",
      "metadata": {
        "id": "view-in-github",
        "colab_type": "text"
      },
      "source": [
        "<a href=\"https://colab.research.google.com/github/GiriSrinivasan/Full-Monn-Appearances-from-1900-to-2050/blob/main/Full_Moon_from_1900_to_2050.ipynb\" target=\"_parent\"><img src=\"https://colab.research.google.com/assets/colab-badge.svg\" alt=\"Open In Colab\"/></a>"
      ]
    },
    {
      "cell_type": "code",
      "metadata": {
        "id": "6U9Ii2NWSX_W"
      },
      "source": [
        "import pandas as pd\n",
        "import matplotlib.pyplot as plt\n",
        "import seaborn as sns\n",
        "from datetime import date, datetime, timedelta"
      ],
      "execution_count": null,
      "outputs": []
    },
    {
      "cell_type": "code",
      "metadata": {
        "id": "-XltXJUlSX_d"
      },
      "source": [
        "moons = pd.read_csv('C:/Data Scientist/Kaggle Datasets/Full Moon Calendar 1900-2050/full_moon.csv')"
      ],
      "execution_count": null,
      "outputs": []
    },
    {
      "cell_type": "code",
      "metadata": {
        "id": "ESQqlR5lSX_e",
        "outputId": "d5d723cd-9c20-4773-cc5c-143f78b0538a"
      },
      "source": [
        "moons.head(10)"
      ],
      "execution_count": null,
      "outputs": [
        {
          "output_type": "execute_result",
          "data": {
            "text/html": [
              "<div>\n",
              "<style scoped>\n",
              "    .dataframe tbody tr th:only-of-type {\n",
              "        vertical-align: middle;\n",
              "    }\n",
              "\n",
              "    .dataframe tbody tr th {\n",
              "        vertical-align: top;\n",
              "    }\n",
              "\n",
              "    .dataframe thead th {\n",
              "        text-align: right;\n",
              "    }\n",
              "</style>\n",
              "<table border=\"1\" class=\"dataframe\">\n",
              "  <thead>\n",
              "    <tr style=\"text-align: right;\">\n",
              "      <th></th>\n",
              "      <th>day</th>\n",
              "      <th>yr</th>\n",
              "      <th>time</th>\n",
              "    </tr>\n",
              "  </thead>\n",
              "  <tbody>\n",
              "    <tr>\n",
              "      <th>0</th>\n",
              "      <td>Monday</td>\n",
              "      <td>15 January 1900</td>\n",
              "      <td>08:07:30 pm</td>\n",
              "    </tr>\n",
              "    <tr>\n",
              "      <th>1</th>\n",
              "      <td>Wednesday</td>\n",
              "      <td>14 February 1900</td>\n",
              "      <td>02:50:12 pm</td>\n",
              "    </tr>\n",
              "    <tr>\n",
              "      <th>2</th>\n",
              "      <td>Friday</td>\n",
              "      <td>16 March 1900</td>\n",
              "      <td>09:11:48 am</td>\n",
              "    </tr>\n",
              "    <tr>\n",
              "      <th>3</th>\n",
              "      <td>Sunday</td>\n",
              "      <td>15 April 1900</td>\n",
              "      <td>02:02:06 am</td>\n",
              "    </tr>\n",
              "    <tr>\n",
              "      <th>4</th>\n",
              "      <td>Monday</td>\n",
              "      <td>14 May 1900</td>\n",
              "      <td>04:36:36 pm</td>\n",
              "    </tr>\n",
              "    <tr>\n",
              "      <th>5</th>\n",
              "      <td>Wednesday</td>\n",
              "      <td>13 June 1900</td>\n",
              "      <td>04:38:36 am</td>\n",
              "    </tr>\n",
              "    <tr>\n",
              "      <th>6</th>\n",
              "      <td>Thursday</td>\n",
              "      <td>12 July 1900</td>\n",
              "      <td>02:21:54 pm</td>\n",
              "    </tr>\n",
              "    <tr>\n",
              "      <th>7</th>\n",
              "      <td>Friday</td>\n",
              "      <td>10 August 1900</td>\n",
              "      <td>10:29:54 pm</td>\n",
              "    </tr>\n",
              "    <tr>\n",
              "      <th>8</th>\n",
              "      <td>Sunday</td>\n",
              "      <td>9 September 1900</td>\n",
              "      <td>06:06:06 am</td>\n",
              "    </tr>\n",
              "    <tr>\n",
              "      <th>9</th>\n",
              "      <td>Monday</td>\n",
              "      <td>8 October 1900</td>\n",
              "      <td>02:18:06 pm</td>\n",
              "    </tr>\n",
              "  </tbody>\n",
              "</table>\n",
              "</div>"
            ],
            "text/plain": [
              "         day                 yr          time\n",
              "0     Monday    15 January 1900   08:07:30 pm\n",
              "1  Wednesday   14 February 1900   02:50:12 pm\n",
              "2     Friday      16 March 1900   09:11:48 am\n",
              "3     Sunday      15 April 1900   02:02:06 am\n",
              "4     Monday        14 May 1900   04:36:36 pm\n",
              "5  Wednesday       13 June 1900   04:38:36 am\n",
              "6   Thursday       12 July 1900   02:21:54 pm\n",
              "7     Friday     10 August 1900   10:29:54 pm\n",
              "8     Sunday   9 September 1900   06:06:06 am\n",
              "9     Monday     8 October 1900   02:18:06 pm"
            ]
          },
          "metadata": {
            "tags": []
          },
          "execution_count": 3
        }
      ]
    },
    {
      "cell_type": "code",
      "metadata": {
        "id": "R1ssPekMSX_f",
        "outputId": "3b88a6fd-ade3-4a7d-8dc5-ad37230cc4e3"
      },
      "source": [
        "moons.tail(-1)"
      ],
      "execution_count": null,
      "outputs": [
        {
          "output_type": "execute_result",
          "data": {
            "text/html": [
              "<div>\n",
              "<style scoped>\n",
              "    .dataframe tbody tr th:only-of-type {\n",
              "        vertical-align: middle;\n",
              "    }\n",
              "\n",
              "    .dataframe tbody tr th {\n",
              "        vertical-align: top;\n",
              "    }\n",
              "\n",
              "    .dataframe thead th {\n",
              "        text-align: right;\n",
              "    }\n",
              "</style>\n",
              "<table border=\"1\" class=\"dataframe\">\n",
              "  <thead>\n",
              "    <tr style=\"text-align: right;\">\n",
              "      <th></th>\n",
              "      <th>day</th>\n",
              "      <th>yr</th>\n",
              "      <th>time</th>\n",
              "    </tr>\n",
              "  </thead>\n",
              "  <tbody>\n",
              "    <tr>\n",
              "      <th>1</th>\n",
              "      <td>Wednesday</td>\n",
              "      <td>14 February 1900</td>\n",
              "      <td>02:50:12 pm</td>\n",
              "    </tr>\n",
              "    <tr>\n",
              "      <th>2</th>\n",
              "      <td>Friday</td>\n",
              "      <td>16 March 1900</td>\n",
              "      <td>09:11:48 am</td>\n",
              "    </tr>\n",
              "    <tr>\n",
              "      <th>3</th>\n",
              "      <td>Sunday</td>\n",
              "      <td>15 April 1900</td>\n",
              "      <td>02:02:06 am</td>\n",
              "    </tr>\n",
              "    <tr>\n",
              "      <th>4</th>\n",
              "      <td>Monday</td>\n",
              "      <td>14 May 1900</td>\n",
              "      <td>04:36:36 pm</td>\n",
              "    </tr>\n",
              "    <tr>\n",
              "      <th>5</th>\n",
              "      <td>Wednesday</td>\n",
              "      <td>13 June 1900</td>\n",
              "      <td>04:38:36 am</td>\n",
              "    </tr>\n",
              "    <tr>\n",
              "      <th>...</th>\n",
              "      <td>...</td>\n",
              "      <td>...</td>\n",
              "      <td>...</td>\n",
              "    </tr>\n",
              "    <tr>\n",
              "      <th>1863</th>\n",
              "      <td>Thursday</td>\n",
              "      <td>1 September 2050</td>\n",
              "      <td>10:30:54 am</td>\n",
              "    </tr>\n",
              "    <tr>\n",
              "      <th>1864</th>\n",
              "      <td>Friday</td>\n",
              "      <td>30 September 2050</td>\n",
              "      <td>06:31:48 pm</td>\n",
              "    </tr>\n",
              "    <tr>\n",
              "      <th>1865</th>\n",
              "      <td>Sunday</td>\n",
              "      <td>30 October 2050</td>\n",
              "      <td>04:16:00 am</td>\n",
              "    </tr>\n",
              "    <tr>\n",
              "      <th>1866</th>\n",
              "      <td>Monday</td>\n",
              "      <td>28 November 2050</td>\n",
              "      <td>04:09:48 pm</td>\n",
              "    </tr>\n",
              "    <tr>\n",
              "      <th>1867</th>\n",
              "      <td>Wednesday</td>\n",
              "      <td>28 December 2050</td>\n",
              "      <td>06:15:36 am</td>\n",
              "    </tr>\n",
              "  </tbody>\n",
              "</table>\n",
              "<p>1867 rows × 3 columns</p>\n",
              "</div>"
            ],
            "text/plain": [
              "            day                  yr          time\n",
              "1     Wednesday    14 February 1900   02:50:12 pm\n",
              "2        Friday       16 March 1900   09:11:48 am\n",
              "3        Sunday       15 April 1900   02:02:06 am\n",
              "4        Monday         14 May 1900   04:36:36 pm\n",
              "5     Wednesday        13 June 1900   04:38:36 am\n",
              "...         ...                 ...           ...\n",
              "1863   Thursday    1 September 2050   10:30:54 am\n",
              "1864     Friday   30 September 2050   06:31:48 pm\n",
              "1865     Sunday     30 October 2050   04:16:00 am\n",
              "1866     Monday    28 November 2050   04:09:48 pm\n",
              "1867  Wednesday    28 December 2050   06:15:36 am\n",
              "\n",
              "[1867 rows x 3 columns]"
            ]
          },
          "metadata": {
            "tags": []
          },
          "execution_count": 4
        }
      ]
    },
    {
      "cell_type": "code",
      "metadata": {
        "id": "hsMlP0rCSX_f",
        "outputId": "2f64e4b7-e819-4f79-8441-b93dc190bfbb"
      },
      "source": [
        "moons.shape"
      ],
      "execution_count": null,
      "outputs": [
        {
          "output_type": "execute_result",
          "data": {
            "text/plain": [
              "(1868, 3)"
            ]
          },
          "metadata": {
            "tags": []
          },
          "execution_count": 5
        }
      ]
    },
    {
      "cell_type": "code",
      "metadata": {
        "id": "C_jwNyR2SX_g",
        "outputId": "8652edae-fa71-4113-bbfb-c59800145b3f"
      },
      "source": [
        "moons.isnull().sum()"
      ],
      "execution_count": null,
      "outputs": [
        {
          "output_type": "execute_result",
          "data": {
            "text/plain": [
              "day     0\n",
              "yr      0\n",
              "time    0\n",
              "dtype: int64"
            ]
          },
          "metadata": {
            "tags": []
          },
          "execution_count": 6
        }
      ]
    },
    {
      "cell_type": "code",
      "metadata": {
        "id": "AwmS8EBJSX_g",
        "outputId": "d83c80a0-078a-4ac4-a676-94601ea42fd4"
      },
      "source": [
        "moons.columns"
      ],
      "execution_count": null,
      "outputs": [
        {
          "output_type": "execute_result",
          "data": {
            "text/plain": [
              "Index(['day', 'yr', 'time'], dtype='object')"
            ]
          },
          "metadata": {
            "tags": []
          },
          "execution_count": 7
        }
      ]
    },
    {
      "cell_type": "code",
      "metadata": {
        "id": "6s0H-Ya8SX_g",
        "outputId": "7fc17e83-6efa-4944-b58f-271cf364cbaf"
      },
      "source": [
        "moons['day'].value_counts()"
      ],
      "execution_count": null,
      "outputs": [
        {
          "output_type": "execute_result",
          "data": {
            "text/plain": [
              "Sunday       272\n",
              "Thursday     269\n",
              "Monday       268\n",
              "Wednesday    267\n",
              "Friday       265\n",
              "Saturday     264\n",
              "Tuesday      263\n",
              "Name: day, dtype: int64"
            ]
          },
          "metadata": {
            "tags": []
          },
          "execution_count": 8
        }
      ]
    },
    {
      "cell_type": "code",
      "metadata": {
        "id": "dO8konxQSX_h"
      },
      "source": [
        "moons['yr'] = pd.to_datetime(moons['yr'])"
      ],
      "execution_count": null,
      "outputs": []
    },
    {
      "cell_type": "code",
      "metadata": {
        "id": "b2CC9FW2SX_h",
        "outputId": "31e56f8e-2726-4413-e6ee-1043753c0efb"
      },
      "source": [
        "moons.info()"
      ],
      "execution_count": null,
      "outputs": [
        {
          "output_type": "stream",
          "text": [
            "<class 'pandas.core.frame.DataFrame'>\n",
            "RangeIndex: 1868 entries, 0 to 1867\n",
            "Data columns (total 3 columns):\n",
            " #   Column  Non-Null Count  Dtype         \n",
            "---  ------  --------------  -----         \n",
            " 0   day     1868 non-null   object        \n",
            " 1   yr      1868 non-null   datetime64[ns]\n",
            " 2   time    1868 non-null   object        \n",
            "dtypes: datetime64[ns](1), object(2)\n",
            "memory usage: 43.9+ KB\n"
          ],
          "name": "stdout"
        }
      ]
    },
    {
      "cell_type": "code",
      "metadata": {
        "id": "zhdMfKHCSX_h"
      },
      "source": [
        "moons['Month'] = moons['yr'].dt.month"
      ],
      "execution_count": null,
      "outputs": []
    },
    {
      "cell_type": "code",
      "metadata": {
        "id": "AYOvtLk0SX_i",
        "outputId": "403c1a67-e927-4ccd-d41a-827ded2d8069"
      },
      "source": [
        "moons.head()"
      ],
      "execution_count": null,
      "outputs": [
        {
          "output_type": "execute_result",
          "data": {
            "text/html": [
              "<div>\n",
              "<style scoped>\n",
              "    .dataframe tbody tr th:only-of-type {\n",
              "        vertical-align: middle;\n",
              "    }\n",
              "\n",
              "    .dataframe tbody tr th {\n",
              "        vertical-align: top;\n",
              "    }\n",
              "\n",
              "    .dataframe thead th {\n",
              "        text-align: right;\n",
              "    }\n",
              "</style>\n",
              "<table border=\"1\" class=\"dataframe\">\n",
              "  <thead>\n",
              "    <tr style=\"text-align: right;\">\n",
              "      <th></th>\n",
              "      <th>day</th>\n",
              "      <th>yr</th>\n",
              "      <th>time</th>\n",
              "      <th>Month</th>\n",
              "    </tr>\n",
              "  </thead>\n",
              "  <tbody>\n",
              "    <tr>\n",
              "      <th>0</th>\n",
              "      <td>Monday</td>\n",
              "      <td>1900-01-15</td>\n",
              "      <td>08:07:30 pm</td>\n",
              "      <td>1</td>\n",
              "    </tr>\n",
              "    <tr>\n",
              "      <th>1</th>\n",
              "      <td>Wednesday</td>\n",
              "      <td>1900-02-14</td>\n",
              "      <td>02:50:12 pm</td>\n",
              "      <td>2</td>\n",
              "    </tr>\n",
              "    <tr>\n",
              "      <th>2</th>\n",
              "      <td>Friday</td>\n",
              "      <td>1900-03-16</td>\n",
              "      <td>09:11:48 am</td>\n",
              "      <td>3</td>\n",
              "    </tr>\n",
              "    <tr>\n",
              "      <th>3</th>\n",
              "      <td>Sunday</td>\n",
              "      <td>1900-04-15</td>\n",
              "      <td>02:02:06 am</td>\n",
              "      <td>4</td>\n",
              "    </tr>\n",
              "    <tr>\n",
              "      <th>4</th>\n",
              "      <td>Monday</td>\n",
              "      <td>1900-05-14</td>\n",
              "      <td>04:36:36 pm</td>\n",
              "      <td>5</td>\n",
              "    </tr>\n",
              "  </tbody>\n",
              "</table>\n",
              "</div>"
            ],
            "text/plain": [
              "         day         yr          time  Month\n",
              "0     Monday 1900-01-15   08:07:30 pm      1\n",
              "1  Wednesday 1900-02-14   02:50:12 pm      2\n",
              "2     Friday 1900-03-16   09:11:48 am      3\n",
              "3     Sunday 1900-04-15   02:02:06 am      4\n",
              "4     Monday 1900-05-14   04:36:36 pm      5"
            ]
          },
          "metadata": {
            "tags": []
          },
          "execution_count": 12
        }
      ]
    },
    {
      "cell_type": "code",
      "metadata": {
        "id": "tPji0VuaSX_i"
      },
      "source": [
        "moons['Year'] = moons['yr'].dt.year"
      ],
      "execution_count": null,
      "outputs": []
    },
    {
      "cell_type": "code",
      "metadata": {
        "id": "cv0VaiK5SX_i",
        "outputId": "edc90f70-a524-4546-e9d2-1e557be195c0"
      },
      "source": [
        "moons.head()"
      ],
      "execution_count": null,
      "outputs": [
        {
          "output_type": "execute_result",
          "data": {
            "text/html": [
              "<div>\n",
              "<style scoped>\n",
              "    .dataframe tbody tr th:only-of-type {\n",
              "        vertical-align: middle;\n",
              "    }\n",
              "\n",
              "    .dataframe tbody tr th {\n",
              "        vertical-align: top;\n",
              "    }\n",
              "\n",
              "    .dataframe thead th {\n",
              "        text-align: right;\n",
              "    }\n",
              "</style>\n",
              "<table border=\"1\" class=\"dataframe\">\n",
              "  <thead>\n",
              "    <tr style=\"text-align: right;\">\n",
              "      <th></th>\n",
              "      <th>day</th>\n",
              "      <th>yr</th>\n",
              "      <th>time</th>\n",
              "      <th>Month</th>\n",
              "      <th>Year</th>\n",
              "    </tr>\n",
              "  </thead>\n",
              "  <tbody>\n",
              "    <tr>\n",
              "      <th>0</th>\n",
              "      <td>Monday</td>\n",
              "      <td>1900-01-15</td>\n",
              "      <td>08:07:30 pm</td>\n",
              "      <td>1</td>\n",
              "      <td>1900</td>\n",
              "    </tr>\n",
              "    <tr>\n",
              "      <th>1</th>\n",
              "      <td>Wednesday</td>\n",
              "      <td>1900-02-14</td>\n",
              "      <td>02:50:12 pm</td>\n",
              "      <td>2</td>\n",
              "      <td>1900</td>\n",
              "    </tr>\n",
              "    <tr>\n",
              "      <th>2</th>\n",
              "      <td>Friday</td>\n",
              "      <td>1900-03-16</td>\n",
              "      <td>09:11:48 am</td>\n",
              "      <td>3</td>\n",
              "      <td>1900</td>\n",
              "    </tr>\n",
              "    <tr>\n",
              "      <th>3</th>\n",
              "      <td>Sunday</td>\n",
              "      <td>1900-04-15</td>\n",
              "      <td>02:02:06 am</td>\n",
              "      <td>4</td>\n",
              "      <td>1900</td>\n",
              "    </tr>\n",
              "    <tr>\n",
              "      <th>4</th>\n",
              "      <td>Monday</td>\n",
              "      <td>1900-05-14</td>\n",
              "      <td>04:36:36 pm</td>\n",
              "      <td>5</td>\n",
              "      <td>1900</td>\n",
              "    </tr>\n",
              "  </tbody>\n",
              "</table>\n",
              "</div>"
            ],
            "text/plain": [
              "         day         yr          time  Month  Year\n",
              "0     Monday 1900-01-15   08:07:30 pm      1  1900\n",
              "1  Wednesday 1900-02-14   02:50:12 pm      2  1900\n",
              "2     Friday 1900-03-16   09:11:48 am      3  1900\n",
              "3     Sunday 1900-04-15   02:02:06 am      4  1900\n",
              "4     Monday 1900-05-14   04:36:36 pm      5  1900"
            ]
          },
          "metadata": {
            "tags": []
          },
          "execution_count": 14
        }
      ]
    },
    {
      "cell_type": "code",
      "metadata": {
        "id": "DuRQ3MuHSX_j",
        "outputId": "8f4ed301-cb05-4eb1-9a04-555caf837c07"
      },
      "source": [
        "moons['Month'].value_counts()"
      ],
      "execution_count": null,
      "outputs": [
        {
          "output_type": "execute_result",
          "data": {
            "text/plain": [
              "7     161\n",
              "12    160\n",
              "8     158\n",
              "5     158\n",
              "10    157\n",
              "3     157\n",
              "1     157\n",
              "9     156\n",
              "4     155\n",
              "11    152\n",
              "6     152\n",
              "2     145\n",
              "Name: Month, dtype: int64"
            ]
          },
          "metadata": {
            "tags": []
          },
          "execution_count": 15
        }
      ]
    },
    {
      "cell_type": "code",
      "metadata": {
        "id": "tw-vp2Z5SX_j"
      },
      "source": [
        "def object_map(x):\n",
        "    return x.map ({1:'Jan',2:'Feb',3:'March',4:'April',5:'May',6:'June',7:'July',8:'Aug',9:'Sep',10:'Oct',11:'Nov',12:'Dec'})"
      ],
      "execution_count": null,
      "outputs": []
    },
    {
      "cell_type": "code",
      "metadata": {
        "id": "h5_IzUmuSX_j"
      },
      "source": [
        "moons[['Month']] = moons[['Month']].apply(object_map)"
      ],
      "execution_count": null,
      "outputs": []
    },
    {
      "cell_type": "code",
      "metadata": {
        "id": "ugC653rBSX_j",
        "outputId": "47c669de-7d82-4c98-d3ae-e34ce5a45add"
      },
      "source": [
        "moons.head(5)"
      ],
      "execution_count": null,
      "outputs": [
        {
          "output_type": "execute_result",
          "data": {
            "text/html": [
              "<div>\n",
              "<style scoped>\n",
              "    .dataframe tbody tr th:only-of-type {\n",
              "        vertical-align: middle;\n",
              "    }\n",
              "\n",
              "    .dataframe tbody tr th {\n",
              "        vertical-align: top;\n",
              "    }\n",
              "\n",
              "    .dataframe thead th {\n",
              "        text-align: right;\n",
              "    }\n",
              "</style>\n",
              "<table border=\"1\" class=\"dataframe\">\n",
              "  <thead>\n",
              "    <tr style=\"text-align: right;\">\n",
              "      <th></th>\n",
              "      <th>day</th>\n",
              "      <th>yr</th>\n",
              "      <th>time</th>\n",
              "      <th>Month</th>\n",
              "      <th>Year</th>\n",
              "    </tr>\n",
              "  </thead>\n",
              "  <tbody>\n",
              "    <tr>\n",
              "      <th>0</th>\n",
              "      <td>Monday</td>\n",
              "      <td>1900-01-15</td>\n",
              "      <td>08:07:30 pm</td>\n",
              "      <td>Jan</td>\n",
              "      <td>1900</td>\n",
              "    </tr>\n",
              "    <tr>\n",
              "      <th>1</th>\n",
              "      <td>Wednesday</td>\n",
              "      <td>1900-02-14</td>\n",
              "      <td>02:50:12 pm</td>\n",
              "      <td>Feb</td>\n",
              "      <td>1900</td>\n",
              "    </tr>\n",
              "    <tr>\n",
              "      <th>2</th>\n",
              "      <td>Friday</td>\n",
              "      <td>1900-03-16</td>\n",
              "      <td>09:11:48 am</td>\n",
              "      <td>March</td>\n",
              "      <td>1900</td>\n",
              "    </tr>\n",
              "    <tr>\n",
              "      <th>3</th>\n",
              "      <td>Sunday</td>\n",
              "      <td>1900-04-15</td>\n",
              "      <td>02:02:06 am</td>\n",
              "      <td>April</td>\n",
              "      <td>1900</td>\n",
              "    </tr>\n",
              "    <tr>\n",
              "      <th>4</th>\n",
              "      <td>Monday</td>\n",
              "      <td>1900-05-14</td>\n",
              "      <td>04:36:36 pm</td>\n",
              "      <td>May</td>\n",
              "      <td>1900</td>\n",
              "    </tr>\n",
              "  </tbody>\n",
              "</table>\n",
              "</div>"
            ],
            "text/plain": [
              "         day         yr          time  Month  Year\n",
              "0     Monday 1900-01-15   08:07:30 pm    Jan  1900\n",
              "1  Wednesday 1900-02-14   02:50:12 pm    Feb  1900\n",
              "2     Friday 1900-03-16   09:11:48 am  March  1900\n",
              "3     Sunday 1900-04-15   02:02:06 am  April  1900\n",
              "4     Monday 1900-05-14   04:36:36 pm    May  1900"
            ]
          },
          "metadata": {
            "tags": []
          },
          "execution_count": 18
        }
      ]
    },
    {
      "cell_type": "code",
      "metadata": {
        "id": "-f9z8asESX_k",
        "outputId": "b69e3680-13f9-464e-b7ad-479d9ceddb0d"
      },
      "source": [
        "moons['Month'].value_counts()"
      ],
      "execution_count": null,
      "outputs": [
        {
          "output_type": "execute_result",
          "data": {
            "text/plain": [
              "July     161\n",
              "Dec      160\n",
              "Aug      158\n",
              "May      158\n",
              "March    157\n",
              "Oct      157\n",
              "Jan      157\n",
              "Sep      156\n",
              "April    155\n",
              "Nov      152\n",
              "June     152\n",
              "Feb      145\n",
              "Name: Month, dtype: int64"
            ]
          },
          "metadata": {
            "tags": []
          },
          "execution_count": 19
        }
      ]
    },
    {
      "cell_type": "code",
      "metadata": {
        "id": "HKrQiUmCSX_k",
        "outputId": "85b35d6c-b49e-4805-adf8-a052044b3e8a"
      },
      "source": [
        "moons['Year'].value_counts()"
      ],
      "execution_count": null,
      "outputs": [
        {
          "output_type": "execute_result",
          "data": {
            "text/plain": [
              "2048    13\n",
              "1928    13\n",
              "1988    13\n",
              "1933    13\n",
              "1990    13\n",
              "        ..\n",
              "1992    12\n",
              "1994    12\n",
              "1995    12\n",
              "1997    12\n",
              "1972    12\n",
              "Name: Year, Length: 151, dtype: int64"
            ]
          },
          "metadata": {
            "tags": []
          },
          "execution_count": 20
        }
      ]
    },
    {
      "cell_type": "markdown",
      "metadata": {
        "id": "dacmFObtSX_k"
      },
      "source": [
        "## Exploratory Data Analysis"
      ]
    },
    {
      "cell_type": "code",
      "metadata": {
        "id": "7AvRLpdZSX_k"
      },
      "source": [
        "import matplotlib.gridspec as gridspec"
      ],
      "execution_count": null,
      "outputs": []
    },
    {
      "cell_type": "code",
      "metadata": {
        "id": "Vsh_ZdO-SX_l"
      },
      "source": [
        "day = moons['day']"
      ],
      "execution_count": null,
      "outputs": []
    },
    {
      "cell_type": "code",
      "metadata": {
        "id": "L-iG_DdaSX_l",
        "outputId": "b5a5e789-1af6-42d7-fd81-33dec6d810b0"
      },
      "source": [
        "plt.figure(figsize=(12,8))\n",
        "sns.countplot(day,data=moons)\n",
        "plt.title('Frequency of Full Moon appearances by  Day wise')\n",
        "plt.xlabel('Days')\n",
        "plt.ylabel('Count')\n",
        "plt.show()"
      ],
      "execution_count": null,
      "outputs": [
        {
          "output_type": "stream",
          "text": [
            "C:\\Users\\Giridharan.S\\anaconda3\\lib\\site-packages\\seaborn\\_decorators.py:36: FutureWarning: Pass the following variable as a keyword arg: x. From version 0.12, the only valid positional argument will be `data`, and passing other arguments without an explicit keyword will result in an error or misinterpretation.\n",
            "  warnings.warn(\n"
          ],
          "name": "stderr"
        },
        {
          "output_type": "display_data",
          "data": {
            "image/png": "[encoded data removed]",
            "text/plain": [
              "<Figure size 864x576 with 1 Axes>"
            ]
          },
          "metadata": {
            "tags": [],
            "needs_background": "light"
          }
        }
      ]
    },
    {
      "cell_type": "code",
      "metadata": {
        "id": "2EqdR-oHSX_l"
      },
      "source": [
        "month = moons['Month']"
      ],
      "execution_count": null,
      "outputs": []
    },
    {
      "cell_type": "code",
      "metadata": {
        "id": "gmt8zhUdSX_l",
        "outputId": "9823e7b0-7ed7-4163-c5fb-ab358a934aa0"
      },
      "source": [
        "plt.figure(figsize=(12,8))\n",
        "sns.countplot(month,data=moons)\n",
        "plt.title('Frequency of Full Moon appearances by Month wise')\n",
        "plt.xlabel('Month')\n",
        "plt.ylabel('Count')\n",
        "plt.show()"
      ],
      "execution_count": null,
      "outputs": [
        {
          "output_type": "stream",
          "text": [
            "C:\\Users\\Giridharan.S\\anaconda3\\lib\\site-packages\\seaborn\\_decorators.py:36: FutureWarning: Pass the following variable as a keyword arg: x. From version 0.12, the only valid positional argument will be `data`, and passing other arguments without an explicit keyword will result in an error or misinterpretation.\n",
            "  warnings.warn(\n"
          ],
          "name": "stderr"
        },
        {
          "output_type": "display_data",
          "data": {
            "image/png": "[encoded data removed]",
            "text/plain": [
              "<Figure size 864x576 with 1 Axes>"
            ]
          },
          "metadata": {
            "tags": [],
            "needs_background": "light"
          }
        }
      ]
    }
  ]
}